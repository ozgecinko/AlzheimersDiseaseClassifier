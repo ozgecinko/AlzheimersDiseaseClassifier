{
 "cells": [
  {
   "cell_type": "markdown",
   "metadata": {
    "id": "cUf4g8EuSnWN"
   },
   "source": [
    "# DenseNet201\n",
    "\n",
    "\n"
   ]
  },
  {
   "cell_type": "markdown",
   "metadata": {
    "id": "jTkbQo7y7oSg"
   },
   "source": [
    "Kütüphane yüklerken Tensorflow Addons hatası veriyorsa burayı çalıştır. Hata vermiyorsa çalıştırmaya gerek yok."
   ]
  },
  {
   "cell_type": "code",
   "execution_count": null,
   "metadata": {
    "colab": {
     "base_uri": "https://localhost:8080/"
    },
    "id": "fO3QpjoB6EgU",
    "outputId": "d5fea3ce-6d05-469b-d911-e104a0e76e4b"
   },
   "outputs": [
    {
     "name": "stdout",
     "output_type": "stream",
     "text": [
      "Requirement already satisfied: tensorflow_addons in /usr/local/lib/python3.7/dist-packages (0.15.0)\n",
      "Requirement already satisfied: typeguard>=2.7 in /usr/local/lib/python3.7/dist-packages (from tensorflow_addons) (2.7.1)\n"
     ]
    }
   ],
   "source": [
    "!pip install tensorflow_addons"
   ]
  },
  {
   "cell_type": "markdown",
   "metadata": {
    "id": "YM_LE16I7z8b"
   },
   "source": [
    "Veri setini kullanmak için öncelikle Dosyalar kısmından ziplenmiş veri setini yükle ardından bu hücredeki kodu çalıştır."
   ]
  },
  {
   "cell_type": "code",
   "execution_count": null,
   "metadata": {
    "id": "dGwDwMzT7WXf"
   },
   "outputs": [],
   "source": [
    " !unzip Alzheimer_s\\ Dataset.zip"
   ]
  },
  {
   "cell_type": "markdown",
   "metadata": {
    "id": "TCKsGd1_7-u-"
   },
   "source": [
    "**Kütüphane Yüklemeleri**"
   ]
  },
  {
   "cell_type": "code",
   "execution_count": 129,
   "metadata": {
    "_cell_guid": "b1076dfc-b9ad-4769-8c92-a6c4dae69d19",
    "_uuid": "8f2839f25d086af736a60e9eeb907d3b93b6e0e5",
    "execution": {
     "iopub.execute_input": "2021-10-07T14:50:25.705067Z",
     "iopub.status.busy": "2021-10-07T14:50:25.704285Z",
     "iopub.status.idle": "2021-10-07T14:50:32.321867Z",
     "shell.execute_reply": "2021-10-07T14:50:32.322453Z",
     "shell.execute_reply.started": "2021-10-07T13:58:00.194549Z"
    },
    "id": "MowAhgD75-mK",
    "papermill": {
     "duration": 6.658571,
     "end_time": "2021-10-07T14:50:32.322819",
     "exception": false,
     "start_time": "2021-10-07T14:50:25.664248",
     "status": "completed"
    },
    "tags": []
   },
   "outputs": [],
   "source": [
    "import numpy as np\n",
    "import pandas as pd\n",
    "import matplotlib.pyplot as plt\n",
    "import seaborn as sn\n",
    "import skimage.io\n",
    "import os \n",
    "import tqdm\n",
    "import glob\n",
    "import tensorflow \n",
    "\n",
    "from tqdm import tqdm\n",
    "from sklearn.utils import shuffle\n",
    "from sklearn import metrics\n",
    "\n",
    "from sklearn.metrics import confusion_matrix, classification_report\n",
    "from sklearn.model_selection import train_test_split\n",
    "\n",
    "from skimage.io import imread, imshow\n",
    "from skimage.transform import resize\n",
    "from skimage.color import grey2rgb\n",
    "\n",
    "import tensorflow as tf\n",
    "from tensorflow.keras.preprocessing.image import ImageDataGenerator\n",
    "from tensorflow.keras.preprocessing import image_dataset_from_directory\n",
    "from tensorflow.keras.models import Sequential\n",
    "from tensorflow.keras.layers import InputLayer, BatchNormalization, Dropout, Flatten, Dense, Activation, MaxPooling2D, Conv2D\n",
    "from tensorflow.keras.callbacks import EarlyStopping, ModelCheckpoint\n",
    "from tensorflow.keras.applications.resnet50 import ResNet50\n",
    "from tensorflow.keras.applications.densenet import DenseNet201 # DenseNet201\n",
    "from tensorflow.keras.utils import to_categorical\n",
    "from keras import optimizers\n",
    "\n",
    "from keras.callbacks import Callback,ModelCheckpoint\n",
    "from keras.models import Sequential,load_model\n",
    "from keras.layers import Dense, Dropout\n",
    "from keras.wrappers.scikit_learn import KerasClassifier\n",
    "import keras.backend as K\n",
    "\n",
    "#import tensorflow_addons as tfa\n",
    "#from tensorflow.keras.metrics import Metric\n",
    "#from tensorflow_addons.utils.types import AcceptableDTypes, FloatTensorLike\n",
    "from typeguard import typechecked\n",
    "from typing import Optional"
   ]
  },
  {
   "cell_type": "markdown",
   "metadata": {
    "id": "nFcX_Xhk5-mP",
    "papermill": {
     "duration": 0.0274,
     "end_time": "2021-10-07T14:50:32.377567",
     "exception": false,
     "start_time": "2021-10-07T14:50:32.350167",
     "status": "completed"
    },
    "tags": []
   },
   "source": [
    "**Veri setinin train, validation, test kümelerine ayrılması.**"
   ]
  },
  {
   "cell_type": "code",
   "execution_count": 130,
   "metadata": {
    "execution": {
     "iopub.execute_input": "2021-10-07T14:50:32.446149Z",
     "iopub.status.busy": "2021-10-07T14:50:32.444955Z",
     "iopub.status.idle": "2021-10-07T14:51:01.629300Z",
     "shell.execute_reply": "2021-10-07T14:51:01.630215Z",
     "shell.execute_reply.started": "2021-10-07T13:58:05.680716Z"
    },
    "id": "5SMfg3Lh5-mR",
    "papermill": {
     "duration": 29.223535,
     "end_time": "2021-10-07T14:51:01.630431",
     "exception": false,
     "start_time": "2021-10-07T14:50:32.406896",
     "status": "completed"
    },
    "tags": []
   },
   "outputs": [],
   "source": [
    "train_datagen = ImageDataGenerator(rescale = 1./255,\n",
    "                                   validation_split = 0.2,\n",
    "                                  \n",
    "        rotation_range=10,\n",
    "        width_shift_range=0.2,\n",
    "        height_shift_range=0.2,\n",
    "        shear_range=0.2,\n",
    "        zoom_range=0.2,\n",
    "        horizontal_flip=True,\n",
    "        vertical_flip=True,\n",
    "        fill_mode='nearest')\n",
    "\n",
    "valid_datagen = ImageDataGenerator(rescale = 1./255,\n",
    "                                  validation_split = 0.2)\n",
    "\n",
    "test_datagen  = ImageDataGenerator(rescale = 1./255\n",
    "                                  )"
   ]
  },
  {
   "cell_type": "code",
   "execution_count": 131,
   "metadata": {
    "colab": {
     "base_uri": "https://localhost:8080/"
    },
    "execution": {
     "iopub.execute_input": "2021-10-07T14:51:01.725418Z",
     "iopub.status.busy": "2021-10-07T14:51:01.724348Z",
     "iopub.status.idle": "2021-10-07T14:51:01.726373Z",
     "shell.execute_reply": "2021-10-07T14:51:01.727247Z",
     "shell.execute_reply.started": "2021-10-07T13:58:38.334745Z"
    },
    "id": "HFSBXBIA5-mT",
    "outputId": "dbb41c08-5dbe-4453-e70e-9a1b4328faae",
    "papermill": {
     "duration": 0.056816,
     "end_time": "2021-10-07T14:51:01.727480",
     "exception": false,
     "start_time": "2021-10-07T14:51:01.670664",
     "status": "completed"
    },
    "tags": []
   },
   "outputs": [
    {
     "name": "stdout",
     "output_type": "stream",
     "text": [
      "Found 4098 images belonging to 4 classes.\n"
     ]
    }
   ],
   "source": [
    "train_dataset  = train_datagen.flow_from_directory(directory = 'Alzheimer_s Dataset/train',\n",
    "                                                   target_size = (224,224),\n",
    "                                                   class_mode = 'categorical',\n",
    "                                                   subset = 'training',\n",
    "                                                   batch_size = 32)"
   ]
  },
  {
   "cell_type": "code",
   "execution_count": 132,
   "metadata": {
    "colab": {
     "base_uri": "https://localhost:8080/"
    },
    "execution": {
     "iopub.execute_input": "2021-10-07T14:51:01.829176Z",
     "iopub.status.busy": "2021-10-07T14:51:01.828444Z",
     "iopub.status.idle": "2021-10-07T14:51:02.264853Z",
     "shell.execute_reply": "2021-10-07T14:51:02.265943Z",
     "shell.execute_reply.started": "2021-10-07T13:58:38.344701Z"
    },
    "id": "87x7QlAu5-mU",
    "outputId": "8dd69909-4938-4946-a113-cdae2c0ee22a",
    "papermill": {
     "duration": 0.494493,
     "end_time": "2021-10-07T14:51:02.266334",
     "exception": false,
     "start_time": "2021-10-07T14:51:01.771841",
     "status": "completed"
    },
    "tags": []
   },
   "outputs": [
    {
     "name": "stdout",
     "output_type": "stream",
     "text": [
      "Found 1023 images belonging to 4 classes.\n"
     ]
    }
   ],
   "source": [
    "valid_dataset = valid_datagen.flow_from_directory(directory = 'Alzheimer_s Dataset/train',\n",
    "                                                  target_size = (224,224),\n",
    "                                                  class_mode = 'categorical',\n",
    "                                                  subset = 'validation',\n",
    "                                                  batch_size = 32)"
   ]
  },
  {
   "cell_type": "code",
   "execution_count": 133,
   "metadata": {
    "colab": {
     "base_uri": "https://localhost:8080/"
    },
    "execution": {
     "iopub.execute_input": "2021-10-07T14:51:02.338912Z",
     "iopub.status.busy": "2021-10-07T14:51:02.337933Z",
     "iopub.status.idle": "2021-10-07T14:51:56.649869Z",
     "shell.execute_reply": "2021-10-07T14:51:56.650848Z",
     "shell.execute_reply.started": "2021-10-07T13:58:38.673742Z"
    },
    "id": "sNFquKaJ5-mV",
    "outputId": "e094e673-af6c-46e5-d4f2-669e6235ffc5",
    "papermill": {
     "duration": 54.351925,
     "end_time": "2021-10-07T14:51:56.651157",
     "exception": false,
     "start_time": "2021-10-07T14:51:02.299232",
     "status": "completed"
    },
    "tags": []
   },
   "outputs": [
    {
     "name": "stdout",
     "output_type": "stream",
     "text": [
      "Found 1279 images belonging to 4 classes.\n"
     ]
    }
   ],
   "source": [
    "test_dataset = test_datagen.flow_from_directory(directory = 'Alzheimer_s Dataset/test',\n",
    "                                                  target_size = (224,224),\n",
    "                                                  class_mode = 'categorical',\n",
    "                                                  batch_size = 32)"
   ]
  },
  {
   "cell_type": "markdown",
   "metadata": {
    "id": "_-7XtX3RuGoI"
   },
   "source": [
    "# Model Oluşturma"
   ]
  },
  {
   "cell_type": "code",
   "execution_count": 134,
   "metadata": {
    "colab": {
     "base_uri": "https://localhost:8080/"
    },
    "id": "6AL4ySrbuR2q",
    "outputId": "5735f2e8-1cf6-4d04-913d-c44d607b0059"
   },
   "outputs": [
    {
     "name": "stdout",
     "output_type": "stream",
     "text": [
      "Downloading data from https://storage.googleapis.com/tensorflow/keras-applications/densenet/densenet201_weights_tf_dim_ordering_tf_kernels_notop.h5\n",
      "74842112/74836368 [==============================] - 1s 0us/step\n",
      "74850304/74836368 [==============================] - 1s 0us/step\n"
     ]
    }
   ],
   "source": [
    "base_model = DenseNet201(input_shape=(224,224,3), \n",
    "                   include_top=False,\n",
    "                   weights=\"imagenet\")"
   ]
  },
  {
   "cell_type": "code",
   "execution_count": 135,
   "metadata": {
    "id": "DjEXx-wM6rzH"
   },
   "outputs": [],
   "source": [
    "# Freezing Layers\n",
    "\n",
    "for layer in base_model.layers:\n",
    "    layer.trainable=False"
   ]
  },
  {
   "cell_type": "code",
   "execution_count": 136,
   "metadata": {
    "id": "GzzNoXHA6vzK"
   },
   "outputs": [],
   "source": [
    "# Building Model\n",
    "\n",
    "model=Sequential()\n",
    "model.add(base_model)\n",
    "model.add(Dropout(0.5))\n",
    "model.add(Flatten())\n",
    "model.add(BatchNormalization())\n",
    "model.add(Dense(64,kernel_initializer='he_uniform'))\n",
    "model.add(BatchNormalization())\n",
    "model.add(Activation('relu'))\n",
    "model.add(Dropout(0.5))\n",
    "model.add(Dense(64,kernel_initializer='he_uniform'))\n",
    "model.add(BatchNormalization())\n",
    "model.add(Activation('relu'))\n",
    "model.add(Dropout(0.5))\n",
    "model.add(Dense(64,kernel_initializer='he_uniform'))\n",
    "model.add(BatchNormalization())\n",
    "model.add(Activation('relu'))\n",
    "model.add(Dropout(0.5))\n",
    "model.add(Dense(32,kernel_initializer='he_uniform'))\n",
    "model.add(BatchNormalization())\n",
    "model.add(Activation('relu'))\n",
    "model.add(Dropout(0.5))\n",
    "model.add(Dense(32,kernel_initializer='he_uniform'))\n",
    "model.add(BatchNormalization())\n",
    "model.add(Activation('relu'))\n",
    "model.add(Dense(4,activation='softmax'))"
   ]
  },
  {
   "cell_type": "code",
   "execution_count": 137,
   "metadata": {
    "id": "iPJeJsjBuVbg"
   },
   "outputs": [],
   "source": [
    "def f1_score(y_true, y_pred): #taken from old keras source code\n",
    "    true_positives = K.sum(K.round(K.clip(y_true * y_pred, 0, 1)))\n",
    "    possible_positives = K.sum(K.round(K.clip(y_true, 0, 1)))\n",
    "    predicted_positives = K.sum(K.round(K.clip(y_pred, 0, 1)))\n",
    "    precision = true_positives / (predicted_positives + K.epsilon())\n",
    "    recall = true_positives / (possible_positives + K.epsilon())\n",
    "    f1_val = 2*(precision*recall)/(precision+recall+K.epsilon())\n",
    "    return f1_val"
   ]
  },
  {
   "cell_type": "code",
   "execution_count": 138,
   "metadata": {
    "id": "jaaltdiNueD6"
   },
   "outputs": [],
   "source": [
    "METRICS = [\n",
    "      tf.keras.metrics.BinaryAccuracy(name='accuracy'),\n",
    "      tf.keras.metrics.Precision(name='precision'),\n",
    "      tf.keras.metrics.Recall(name='recall'),  \n",
    "      tf.keras.metrics.AUC(name='auc'),\n",
    "        f1_score,\n",
    "]"
   ]
  },
  {
   "cell_type": "code",
   "execution_count": 139,
   "metadata": {
    "id": "PgB5g4Bryr5d"
   },
   "outputs": [],
   "source": [
    "def exponential_decay(lr0, s):\n",
    "    def exponential_decay_fn(epoch):\n",
    "        return lr0 * 0.1 **(epoch / s)\n",
    "    return exponential_decay_fn\n",
    "\n",
    "exponential_decay_fn = exponential_decay(0.01, 5) # when i run it for 50 epochs\n",
    "\n",
    "lr_scheduler = tf.keras.callbacks.LearningRateScheduler(exponential_decay_fn)"
   ]
  },
  {
   "cell_type": "code",
   "execution_count": 141,
   "metadata": {
    "id": "UzsnHeK1Pmuu"
   },
   "outputs": [],
   "source": [
    "model.compile(optimizer='rmsprop', loss='categorical_crossentropy',metrics=METRICS)"
   ]
  },
  {
   "cell_type": "code",
   "execution_count": 142,
   "metadata": {
    "colab": {
     "base_uri": "https://localhost:8080/"
    },
    "id": "ZN_dhH02PqDK",
    "outputId": "8ef382b8-880f-4311-d870-02dd20ce664d"
   },
   "outputs": [
    {
     "name": "stdout",
     "output_type": "stream",
     "text": [
      "Epoch 1/20\n",
      "129/129 [==============================] - 99s 627ms/step - loss: 1.0897 - accuracy: 0.7435 - precision: 0.4724 - recall: 0.2216 - auc: 0.7675 - f1_score: 0.2910 - val_loss: 1.0311 - val_accuracy: 0.7852 - val_precision: 0.6017 - val_recall: 0.4164 - val_auc: 0.8013 - val_f1_score: 0.4898 - lr: 0.0100\n",
      "Epoch 2/20\n",
      "129/129 [==============================] - 73s 566ms/step - loss: 1.0428 - accuracy: 0.7592 - precision: 0.5461 - recall: 0.2184 - auc: 0.7869 - f1_score: 0.3034 - val_loss: 1.0245 - val_accuracy: 0.7759 - val_precision: 0.5889 - val_recall: 0.3431 - val_auc: 0.8014 - val_f1_score: 0.4308 - lr: 0.0063\n",
      "Epoch 3/20\n",
      "129/129 [==============================] - 73s 563ms/step - loss: 1.0081 - accuracy: 0.7758 - precision: 0.6495 - recall: 0.2243 - auc: 0.8016 - f1_score: 0.3293 - val_loss: 0.9785 - val_accuracy: 0.7854 - val_precision: 0.7114 - val_recall: 0.2385 - val_auc: 0.8172 - val_f1_score: 0.3513 - lr: 0.0040\n",
      "Epoch 4/20\n",
      "129/129 [==============================] - 73s 563ms/step - loss: 0.9722 - accuracy: 0.7867 - precision: 0.7100 - recall: 0.2479 - auc: 0.8182 - f1_score: 0.3679 - val_loss: 0.9587 - val_accuracy: 0.7862 - val_precision: 0.7216 - val_recall: 0.2356 - val_auc: 0.8232 - val_f1_score: 0.3495 - lr: 0.0025\n",
      "Epoch 5/20\n",
      "129/129 [==============================] - 72s 559ms/step - loss: 0.9682 - accuracy: 0.7867 - precision: 0.7160 - recall: 0.2430 - auc: 0.8183 - f1_score: 0.3588 - val_loss: 0.9638 - val_accuracy: 0.7871 - val_precision: 0.7657 - val_recall: 0.2141 - val_auc: 0.8265 - val_f1_score: 0.3303 - lr: 0.0016\n",
      "Epoch 6/20\n",
      "129/129 [==============================] - 72s 560ms/step - loss: 0.9518 - accuracy: 0.7948 - precision: 0.7493 - recall: 0.2692 - auc: 0.8273 - f1_score: 0.3991 - val_loss: 0.9655 - val_accuracy: 0.7879 - val_precision: 0.7758 - val_recall: 0.2131 - val_auc: 0.8242 - val_f1_score: 0.3308 - lr: 0.0010\n",
      "Epoch 7/20\n",
      "129/129 [==============================] - 72s 557ms/step - loss: 0.9461 - accuracy: 0.7933 - precision: 0.7477 - recall: 0.2611 - auc: 0.8266 - f1_score: 0.3878 - val_loss: 0.9707 - val_accuracy: 0.7857 - val_precision: 0.7874 - val_recall: 0.1955 - val_auc: 0.8230 - val_f1_score: 0.3100 - lr: 6.3096e-04\n",
      "Epoch 8/20\n",
      "129/129 [==============================] - 72s 561ms/step - loss: 0.9498 - accuracy: 0.7914 - precision: 0.7305 - recall: 0.2626 - auc: 0.8254 - f1_score: 0.3826 - val_loss: 0.9672 - val_accuracy: 0.7874 - val_precision: 0.7887 - val_recall: 0.2043 - val_auc: 0.8261 - val_f1_score: 0.3176 - lr: 3.9811e-04\n",
      "Epoch 9/20\n",
      "129/129 [==============================] - 73s 562ms/step - loss: 0.9384 - accuracy: 0.7971 - precision: 0.7644 - recall: 0.2723 - auc: 0.8326 - f1_score: 0.3974 - val_loss: 0.9720 - val_accuracy: 0.7852 - val_precision: 0.7857 - val_recall: 0.1935 - val_auc: 0.8251 - val_f1_score: 0.3064 - lr: 2.5119e-04\n",
      "Epoch 10/20\n",
      "129/129 [==============================] - 74s 576ms/step - loss: 0.9414 - accuracy: 0.7951 - precision: 0.7468 - recall: 0.2728 - auc: 0.8288 - f1_score: 0.3995 - val_loss: 0.9681 - val_accuracy: 0.7876 - val_precision: 0.7895 - val_recall: 0.2053 - val_auc: 0.8259 - val_f1_score: 0.3214 - lr: 1.5849e-04\n",
      "Epoch 11/20\n",
      "129/129 [==============================] - 73s 569ms/step - loss: 0.9463 - accuracy: 0.7933 - precision: 0.7435 - recall: 0.2645 - auc: 0.8258 - f1_score: 0.3906 - val_loss: 0.9687 - val_accuracy: 0.7876 - val_precision: 0.7895 - val_recall: 0.2053 - val_auc: 0.8252 - val_f1_score: 0.3228 - lr: 1.0000e-04\n",
      "Epoch 12/20\n",
      "129/129 [==============================] - 74s 574ms/step - loss: 0.9455 - accuracy: 0.7932 - precision: 0.7311 - recall: 0.2733 - auc: 0.8278 - f1_score: 0.3986 - val_loss: 0.9666 - val_accuracy: 0.7879 - val_precision: 0.7860 - val_recall: 0.2082 - val_auc: 0.8278 - val_f1_score: 0.3224 - lr: 6.3096e-05\n",
      "Epoch 13/20\n",
      "129/129 [==============================] - 73s 563ms/step - loss: 0.9433 - accuracy: 0.7926 - precision: 0.7313 - recall: 0.2696 - auc: 0.8274 - f1_score: 0.3975 - val_loss: 0.9691 - val_accuracy: 0.7867 - val_precision: 0.7863 - val_recall: 0.2014 - val_auc: 0.8254 - val_f1_score: 0.3173 - lr: 3.9811e-05\n",
      "Epoch 14/20\n",
      "129/129 [==============================] - 73s 561ms/step - loss: 0.9399 - accuracy: 0.7951 - precision: 0.7465 - recall: 0.2731 - auc: 0.8310 - f1_score: 0.3961 - val_loss: 0.9678 - val_accuracy: 0.7874 - val_precision: 0.7887 - val_recall: 0.2043 - val_auc: 0.8260 - val_f1_score: 0.3193 - lr: 2.5119e-05\n",
      "Epoch 15/20\n",
      "129/129 [==============================] - 73s 562ms/step - loss: 0.9381 - accuracy: 0.7966 - precision: 0.7537 - recall: 0.2770 - auc: 0.8317 - f1_score: 0.4047 - val_loss: 0.9679 - val_accuracy: 0.7871 - val_precision: 0.7879 - val_recall: 0.2033 - val_auc: 0.8270 - val_f1_score: 0.3186 - lr: 1.5849e-05\n",
      "Epoch 16/20\n",
      "129/129 [==============================] - 73s 563ms/step - loss: 0.9422 - accuracy: 0.7948 - precision: 0.7421 - recall: 0.2745 - auc: 0.8289 - f1_score: 0.3970 - val_loss: 0.9679 - val_accuracy: 0.7879 - val_precision: 0.7903 - val_recall: 0.2063 - val_auc: 0.8275 - val_f1_score: 0.3222 - lr: 1.0000e-05\n",
      "Epoch 17/20\n",
      "129/129 [==============================] - 74s 571ms/step - loss: 0.9403 - accuracy: 0.7950 - precision: 0.7437 - recall: 0.2748 - auc: 0.8310 - f1_score: 0.4044 - val_loss: 0.9652 - val_accuracy: 0.7879 - val_precision: 0.7818 - val_recall: 0.2102 - val_auc: 0.8288 - val_f1_score: 0.3279 - lr: 6.3096e-06\n",
      "Epoch 18/20\n",
      "129/129 [==============================] - 74s 570ms/step - loss: 0.9448 - accuracy: 0.7901 - precision: 0.7180 - recall: 0.2640 - auc: 0.8256 - f1_score: 0.3862 - val_loss: 0.9664 - val_accuracy: 0.7881 - val_precision: 0.7826 - val_recall: 0.2111 - val_auc: 0.8265 - val_f1_score: 0.3288 - lr: 3.9811e-06\n",
      "Epoch 19/20\n",
      "129/129 [==============================] - 74s 570ms/step - loss: 0.9454 - accuracy: 0.7931 - precision: 0.7318 - recall: 0.2723 - auc: 0.8267 - f1_score: 0.3973 - val_loss: 0.9644 - val_accuracy: 0.7884 - val_precision: 0.7794 - val_recall: 0.2141 - val_auc: 0.8263 - val_f1_score: 0.3326 - lr: 2.5119e-06\n",
      "Epoch 20/20\n",
      "129/129 [==============================] - 73s 565ms/step - loss: 0.9392 - accuracy: 0.7944 - precision: 0.7458 - recall: 0.2692 - auc: 0.8296 - f1_score: 0.3962 - val_loss: 0.9663 - val_accuracy: 0.7881 - val_precision: 0.7826 - val_recall: 0.2111 - val_auc: 0.8259 - val_f1_score: 0.3244 - lr: 1.5849e-06\n"
     ]
    }
   ],
   "source": [
    "history=model.fit(train_dataset,\n",
    "                        validation_data=valid_dataset,\n",
    "                        epochs = 20,\n",
    "                        verbose = 1,\n",
    "                         callbacks=lr_scheduler)"
   ]
  },
  {
   "cell_type": "code",
   "execution_count": 143,
   "metadata": {
    "colab": {
     "base_uri": "https://localhost:8080/",
     "height": 370
    },
    "id": "gpEN6vINUd3F",
    "outputId": "fcc3cb83-ec83-4cab-ad40-6943a02faf47"
   },
   "outputs": [
    {
     "data": {
      "image/png": "[encoded data removed]",
      "text/plain": [
       "<Figure size 1440x360 with 5 Axes>"
      ]
     },
     "metadata": {
      "needs_background": "light"
     },
     "output_type": "display_data"
    }
   ],
   "source": [
    "#%% PLOTTING RESULTS (Train vs Validation FOLDER 1)\n",
    "\n",
    "def Train_Val_Plot(acc,val_acc,loss,val_loss,auc,val_auc,precision,val_precision,f1,val_f1):\n",
    "    \n",
    "    fig, (ax1, ax2,ax3,ax4,ax5) = plt.subplots(1,5, figsize= (20,5))\n",
    "    fig.suptitle(\" MODEL'S METRICS VISUALIZATION \")\n",
    "\n",
    "    ax1.plot(range(1, len(acc) + 1), acc)\n",
    "    ax1.plot(range(1, len(val_acc) + 1), val_acc)\n",
    "    ax1.set_title('History of Accuracy')\n",
    "    ax1.set_xlabel('Epochs')\n",
    "    ax1.set_ylabel('Accuracy')\n",
    "    ax1.legend(['training', 'validation'])\n",
    "\n",
    "\n",
    "    ax2.plot(range(1, len(loss) + 1), loss)\n",
    "    ax2.plot(range(1, len(val_loss) + 1), val_loss)\n",
    "    ax2.set_title('History of Loss')\n",
    "    ax2.set_xlabel('Epochs')\n",
    "    ax2.set_ylabel('Loss')\n",
    "    ax2.legend(['training', 'validation'])\n",
    "    \n",
    "    ax3.plot(range(1, len(auc) + 1), auc)\n",
    "    ax3.plot(range(1, len(val_auc) + 1), val_auc)\n",
    "    ax3.set_title('History of AUC')\n",
    "    ax3.set_xlabel('Epochs')\n",
    "    ax3.set_ylabel('AUC')\n",
    "    ax3.legend(['training', 'validation'])\n",
    "    \n",
    "    ax4.plot(range(1, len(precision) + 1), precision)\n",
    "    ax4.plot(range(1, len(val_precision) + 1), val_precision)\n",
    "    ax4.set_title('History of Precision')\n",
    "    ax4.set_xlabel('Epochs')\n",
    "    ax4.set_ylabel('Precision')\n",
    "    ax4.legend(['training', 'validation'])\n",
    "    \n",
    "    ax5.plot(range(1, len(f1) + 1), f1)\n",
    "    ax5.plot(range(1, len(val_f1) + 1), val_f1)\n",
    "    ax5.set_title('History of F1-score')\n",
    "    ax5.set_xlabel('Epochs')\n",
    "    ax5.set_ylabel('F1 score')\n",
    "    ax5.legend(['training', 'validation'])\n",
    "\n",
    "\n",
    "    plt.show()\n",
    "    \n",
    "\n",
    "Train_Val_Plot(history.history['accuracy'],history.history['val_accuracy'],\n",
    "               history.history['loss'],history.history['val_loss'],\n",
    "               history.history['auc'],history.history['val_auc'],\n",
    "               history.history['precision'],history.history['val_precision'],\n",
    "               history.history['f1_score'],history.history['val_f1_score']\n",
    "              )"
   ]
  },
  {
   "cell_type": "code",
   "execution_count": 144,
   "metadata": {
    "colab": {
     "base_uri": "https://localhost:8080/"
    },
    "id": "b9Rb-NIFUiGr",
    "outputId": "73d4222b-b01c-4c4c-b65d-591d8b6f2804"
   },
   "outputs": [
    {
     "name": "stderr",
     "output_type": "stream",
     "text": [
      "/usr/local/lib/python3.7/dist-packages/ipykernel_launcher.py:1: UserWarning: `Model.evaluate_generator` is deprecated and will be removed in a future version. Please use `Model.evaluate`, which supports generators.\n",
      "  \"\"\"Entry point for launching an IPython kernel.\n"
     ]
    }
   ],
   "source": [
    "scores = model.evaluate_generator(test_dataset)"
   ]
  },
  {
   "cell_type": "code",
   "execution_count": 145,
   "metadata": {
    "colab": {
     "base_uri": "https://localhost:8080/"
    },
    "id": "dkNz36FoUjXr",
    "outputId": "3380b841-e929-4b31-c404-42b3eb3b36de"
   },
   "outputs": [
    {
     "name": "stdout",
     "output_type": "stream",
     "text": [
      "Accuracy =  0.7922204732894897\n",
      "Precision =  0.699999988079071\n",
      "Recall =  0.2955434024333954\n",
      "AUC =  0.8277338147163391\n",
      "F1_score =  0.41302114725112915\n"
     ]
    }
   ],
   "source": [
    "print(\"Accuracy = \", scores[1])\n",
    "print(\"Precision = \", scores[2])\n",
    "print(\"Recall = \", scores[3])\n",
    "print(\"AUC = \", scores[4])\n",
    "print(\"F1_score = \", scores[5])"
   ]
  },
  {
   "cell_type": "code",
   "execution_count": 146,
   "metadata": {
    "colab": {
     "base_uri": "https://localhost:8080/"
    },
    "id": "pW9TsBcYBGBc",
    "outputId": "a4f7a1c1-0fb5-4902-a5a7-e052b641a7f5"
   },
   "outputs": [
    {
     "data": {
      "text/plain": [
       "['densenet201']"
      ]
     },
     "execution_count": 146,
     "metadata": {},
     "output_type": "execute_result"
    }
   ],
   "source": [
    "root_dir = \"./\"\n",
    "work_dir = root_dir + \"dataset/\"\n",
    "model_dir = work_dir + \"densenet201\"\n",
    "model.save(model_dir, save_format='h5')\n",
    "os.listdir(work_dir)"
   ]
  }
 ],
 "metadata": {
  "accelerator": "GPU",
  "colab": {
   "collapsed_sections": [],
   "name": "Alzheimer Hastalık Tespiti - DenseNet201",
   "provenance": []
  },
  "kernelspec": {
   "display_name": "Python 3 (ipykernel)",
   "language": "python",
   "name": "python3"
  },
  "language_info": {
   "codemirror_mode": {
    "name": "ipython",
    "version": 3
   },
   "file_extension": ".py",
   "mimetype": "text/x-python",
   "name": "python",
   "nbconvert_exporter": "python",
   "pygments_lexer": "ipython3",
   "version": "3.7.1"
  },
  "papermill": {
   "default_parameters": {},
   "duration": 2516.889233,
   "end_time": "2021-10-07T15:32:16.214548",
   "environment_variables": {},
   "exception": null,
   "input_path": "__notebook__.ipynb",
   "output_path": "__notebook__.ipynb",
   "parameters": {},
   "start_time": "2021-10-07T14:50:19.325315",
   "version": "2.3.2"
  }
 },
 "nbformat": 4,
 "nbformat_minor": 5
}
